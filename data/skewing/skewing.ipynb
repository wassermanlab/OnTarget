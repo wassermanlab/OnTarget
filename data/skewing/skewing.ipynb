{
 "cells": [
  {
   "cell_type": "code",
   "execution_count": 1,
   "metadata": {},
   "outputs": [],
   "source": [
    "import numpy as np "
   ]
  },
  {
   "cell_type": "code",
   "execution_count": 2,
   "metadata": {},
   "outputs": [],
   "source": [
    "adora2a = np.load(\"ADORA2A.npy\")\n",
    "pitx3 = np.load(\"PITX3.npy\")"
   ]
  },
  {
   "cell_type": "code",
   "execution_count": null,
   "metadata": {},
   "outputs": [],
   "source": [
    "import matplot"
   ]
  },
  {
   "cell_type": "code",
   "execution_count": 3,
   "metadata": {},
   "outputs": [],
   "source": [
    "import matplotlib\n",
    "import matplotlib.pyplot as plt\n",
    "base_dir = \"/home/oriol/IRF4/B\"\n",
    "colors = [\"#258942\", \"#892e73\"]\n",
    "matplotlib.rcParams[\"font.family\"] = \"sans-serif\"\n",
    "matplotlib.rcParams[\"font.sans-serif\"] = \"Arial\"\n",
    "matplotlib.rcParams[\"font.size\"] = \"7\"\n",
    "matplotlib.rcParams[\"xtick.major.pad\"]= \"1\"\n",
    "matplotlib.rcParams[\"ytick.major.pad\"]= \"1\"\n",
    "cm = 1 / 2.54  # centimeters in inches"
   ]
  },
  {
   "cell_type": "code",
   "execution_count": 27,
   "metadata": {},
   "outputs": [
    {
     "data": {
      "image/png": "[encoded data removed]",
      "text/plain": [
       "<Figure size 177.165x393.701 with 2 Axes>"
      ]
     },
     "metadata": {},
     "output_type": "display_data"
    }
   ],
   "source": [
    "# Initialize\n",
    "fig, axs = plt.subplots(2, 1, figsize=(4.5*cm, 10*cm))\n",
    "\n",
    "# Plot histograms\n",
    "axs[0].hist(adora2a, bins=25, weights=np.ones_like(adora2a) / len(adora2a))\n",
    "axs[1].hist(pitx3, bins=25, weights=np.ones_like(pitx3) / len(pitx3))\n",
    "\n",
    "# Fix aspect\n",
    "axs[0].set_box_aspect(1)\n",
    "axs[1].set_box_aspect(1)\n",
    "\n",
    "# Fix y-lim\n",
    "axs[0].set_ylim(axs[1].get_ylim())\n",
    "\n",
    "# Fix x-axis\n",
    "axs[0].set_xticks([0., .25, .5, .75, 1.])\n",
    "axs[0].set_xticklabels([0., .25, .5, .75, 1.])\n",
    "axs[1].set_xticks([0., .25, .5, .75, 1.])\n",
    "axs[1].set_xticklabels([0., .25, .5, .75, 1.])\n",
    "\n",
    "# Fix x-label\n",
    "axs[1].set_xlabel(\"Normalized score\")\n",
    "\n",
    "# Fix spines\n",
    "axs[0].spines.right.set_visible(False)\n",
    "axs[0].spines.top.set_visible(False)\n",
    "axs[1].spines.right.set_visible(False)\n",
    "axs[1].spines.top.set_visible(False)\n",
    "\n",
    "# Set title\n",
    "axs[0].set_title(\"ADORA2A\", y=1.0, pad=-5)\n",
    "axs[1].set_title(\"PITX3\", y=1.0, pad=-5)\n",
    "\n",
    "# Save plot\n",
    "plt.savefig(\"skewing.png\", dpi=1380)\n",
    "plt.savefig(\"skewing.svg\", dpi=1380)"
   ]
  },
  {
   "cell_type": "code",
   "execution_count": null,
   "metadata": {},
   "outputs": [],
   "source": []
  }
 ],
 "metadata": {
  "kernelspec": {
   "display_name": "Python 3 (ipykernel)",
   "language": "python",
   "name": "python3"
  },
  "language_info": {
   "codemirror_mode": {
    "name": "ipython",
    "version": 3
   },
   "file_extension": ".py",
   "mimetype": "text/x-python",
   "name": "python",
   "nbconvert_exporter": "python",
   "pygments_lexer": "ipython3",
   "version": "3.9.15"
  }
 },
 "nbformat": 4,
 "nbformat_minor": 2
}
